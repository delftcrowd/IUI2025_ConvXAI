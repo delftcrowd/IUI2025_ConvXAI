{
 "cells": [
  {
   "cell_type": "code",
   "execution_count": 1,
   "metadata": {},
   "outputs": [],
   "source": [
    "from util import load_user_data\n",
    "import pandas as pd\n",
    "import numpy as np"
   ]
  },
  {
   "cell_type": "code",
   "execution_count": 10,
   "metadata": {},
   "outputs": [
    {
     "name": "stdout",
     "output_type": "stream",
     "text": [
      "245 valid participants\n",
      "{'control': 61, 'dashboard': 61, 'chatxai': 62, 'chatxaiboost': 61, 'chatxaiAuto': 0}\n",
      "91 participants blindly rely on AI advice\n",
      "{'control': 8, 'dashboard': 27, 'chatxai': 32, 'chatxaiboost': 24, 'chatxaiAuto': 0}\n",
      "61 valid participants\n",
      "{'control': 0, 'dashboard': 0, 'chatxai': 0, 'chatxaiboost': 0, 'chatxaiAuto': 61}\n",
      "25 participants blindly rely on AI advice\n",
      "{'control': 0, 'dashboard': 0, 'chatxai': 0, 'chatxaiboost': 0, 'chatxaiAuto': 25}\n",
      "306\n"
     ]
    }
   ],
   "source": [
    "valid_users, tp_data, _ = load_user_data(filename=\"../original_data/xailabdata_all.csv\")\n",
    "\n",
    "valid_users_2, tp_data_2, _ = load_user_data(filename=\"../LLM_agent/xailabdata_processed.csv\")\n",
    "\n",
    "valid_users = valid_users | valid_users_2\n",
    "tp_data.update(tp_data_2)\n",
    "print(len(valid_users))"
   ]
  },
  {
   "cell_type": "code",
   "execution_count": 11,
   "metadata": {},
   "outputs": [
    {
     "name": "stdout",
     "output_type": "stream",
     "text": [
      "{'6425ffdf7fd742839b924ac5', '5f3287b83428cb05746e2214', '6632ac1fa19e8464a16ce9da', '6668765abed5ee81b2470189', '6658a7f614d62a1049b4a850', '615dbec57d764bf5ab0a56e5', '5edeea354d54cb1a825aa8f9', '63d69e4d6648b39324fdf0ad', '65bd29a33fe10dcc8e183b52', '662f98f43a8fb355ba11f5bf', '665df7d58501a55e990b773a', '660453c9877e571d12b555f7', '65bc4f6759082a6190c36f50', '5bb0cc738f3bd70001e513e3', '65555ad794df5e3308b4b09a', '6522721f904f87ec074bbec3', '66583c8842393a2ea28dbb8e', '663a7ea45bdb587ae9f1877f', '653d1a347da5636bc74b4d9c', '65f43b8e7508020158576632', '5e36be214de4516479b48f31', '5f3c29af1c4817a56cfc13f1', '66689f12db06fb05c27647b2', '5eea293c104faf09267b1994', '62e02b26e879244a99e852fa', '65aa3c081d2203deb4d2d4fc', '665b5ab06f53305291fbf9cc', '5ee0dbc4b229c1091c2fa9b5', '6529425c8642a206285c998b', '66565d5c83886df54573f3c5', '65956900f1580a3b138f7756', '601129f77e0c21000b0c408a', '5c22db5c540c6d00018bc10c', '655e09fc282e4139c82f834a', '65cbe8940549c170484ea078', '5e73ed268c8f27364de746c5', '6422f34be2b8257efb345837', '633a8c5d90694135b7e4b407', '5a9bbda1f6dfdd0001ea9639', '5a947fb0f05361000171b5a3', '659523d7dc82f29fde3c2a73', '665740a2e45a259924fc318b', '5dbf5fe16849043f135aa2c0', '65feaaac53eb219f09ad5ea0', '6347200d8ded5172ec43e0bb', '5e47a5ae418f6125620ee944', '5e65c5b41e30883349a25a61', '6631974094690f6997799b7c', '663ad56043fe3dec6ceffacd', '603abe4c7a63f571e950a02b', '665a5630839126bd9a139fa3', '659b523e0c80c3b946e090b7', '664c9df15a339508b8045c6a', '5e11a7d6feea8982dba1e61c', '61530d04a2176282b7ee6fac', '5fe9adc1416cba412c20bd4a', '657c0568573c24460b180d14', '5696b105eaa915000b8bd77c', '56896501d3d6a7000ca23da8', '6646653dc67583efb71e96cf', '5c4f5967aac8be0001716a65'}\n"
     ]
    }
   ],
   "source": [
    "print(valid_users_2)"
   ]
  },
  {
   "cell_type": "code",
   "execution_count": 12,
   "metadata": {},
   "outputs": [
    {
     "name": "stdout",
     "output_type": "stream",
     "text": [
      "61 61\n",
      "61\n",
      "61 61\n",
      "122\n",
      "62 62\n",
      "184\n",
      "61 61\n",
      "245\n",
      "5 5\n",
      "250\n",
      "56 56\n",
      "306\n",
      "306\n",
      "Age: M:32.34, std:7.77\n"
     ]
    }
   ],
   "source": [
    "import csv\n",
    "known_userset = set()\n",
    "def load_prolific_age_gender(filename):\n",
    "    df = pd.read_csv(filename, usecols=['Participant id', 'Age', 'Sex'], quoting=csv.QUOTE_MINIMAL)\n",
    "    user_list = df.values.tolist()\n",
    "    age_list = []\n",
    "    gender_list = []\n",
    "    for user_id, age, sex in user_list:\n",
    "        if user_id not in valid_users:\n",
    "            continue\n",
    "        age_list.append(int(age))\n",
    "        gender_list.append(sex)\n",
    "        known_userset.add(user_id)\n",
    "    return age_list, gender_list\n",
    "\n",
    "age_list_all = []\n",
    "gender_list_all = []\n",
    "\n",
    "import os\n",
    "for file in [\"prolific_control.csv\", \"prolific_dashboard.csv\", \"prolific_conversational.csv\", \"prolific_personalized.csv\"]:\n",
    "    filename = os.path.join(\"../original_data/\", file)\n",
    "    age_list, gender_list = load_prolific_age_gender(filename)\n",
    "    print(len(age_list), len(gender_list))\n",
    "    age_list_all += age_list\n",
    "    gender_list_all += gender_list\n",
    "    print(len(age_list_all))\n",
    "\n",
    "for file in [\"prolific_LLM_Agent_1.csv\", \"prolific_LLM_Agent_2.csv\"]:\n",
    "    filename = os.path.join(\"../LLM_agent/\", file)\n",
    "    age_list, gender_list = load_prolific_age_gender(filename)\n",
    "    print(len(age_list), len(gender_list))\n",
    "    age_list_all += age_list\n",
    "    gender_list_all += gender_list\n",
    "    print(len(age_list_all))\n",
    "\n",
    "print(len(age_list_all))\n",
    "print(\"Age: M:{:.2f}, std:{:.2f}\".format(np.mean(age_list_all), np.std(age_list_all)))"
   ]
  },
  {
   "cell_type": "code",
   "execution_count": 13,
   "metadata": {},
   "outputs": [
    {
     "name": "stdout",
     "output_type": "stream",
     "text": [
      "Counter({'Male': 164, 'Female': 142})\n"
     ]
    }
   ],
   "source": [
    "from collections import Counter\n",
    "\n",
    "x = Counter(gender_list_all)\n",
    "print(x)"
   ]
  },
  {
   "cell_type": "code",
   "execution_count": 14,
   "metadata": {},
   "outputs": [
    {
     "name": "stdout",
     "output_type": "stream",
     "text": [
      "0.5359477124183006\n",
      "0.46405228758169936\n"
     ]
    }
   ],
   "source": [
    "print(164 / 306)\n",
    "print(142 / 306)"
   ]
  }
 ],
 "metadata": {
  "kernelspec": {
   "display_name": "agreement_phi",
   "language": "python",
   "name": "python3"
  },
  "language_info": {
   "codemirror_mode": {
    "name": "ipython",
    "version": 3
   },
   "file_extension": ".py",
   "mimetype": "text/x-python",
   "name": "python",
   "nbconvert_exporter": "python",
   "pygments_lexer": "ipython3",
   "version": "3.8.13"
  },
  "orig_nbformat": 4
 },
 "nbformat": 4,
 "nbformat_minor": 2
}
